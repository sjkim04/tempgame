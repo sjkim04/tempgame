{
  "nbformat": 4,
  "nbformat_minor": 0,
  "metadata": {
    "colab": {
      "name": "Untitled3.ipynb",
      "provenance": [],
      "authorship_tag": "ABX9TyM4gVPGh07mV/o5p4iLr2zE"
    },
    "kernelspec": {
      "name": "python3",
      "display_name": "Python 3"
    },
    "language_info": {
      "name": "python"
    }
  },
  "cells": [
    {
      "cell_type": "code",
      "metadata": {
        "id": "I6Gbn5ZpBJUC"
      },
      "source": [
        "%load main.py"
      ],
      "execution_count": null,
      "outputs": []
    }
  ]
}