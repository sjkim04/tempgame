{
  "nbformat": 4,
  "nbformat_minor": 0,
  "metadata": {
    "colab": {
      "name": "Untitled3.ipynb",
      "provenance": [],
      "authorship_tag": "ABX9TyOHeTQFUo1Z8YYcZ7XhYTs2",
      "include_colab_link": true
    },
    "kernelspec": {
      "name": "python3",
      "display_name": "Python 3"
    },
    "language_info": {
      "name": "python"
    }
  },
  "cells": [
    {
      "cell_type": "markdown",
      "metadata": {
        "id": "view-in-github",
        "colab_type": "text"
      },
      "source": [
        "<a href=\"https://colab.research.google.com/github/sjkim04/uuig/blob/main/notebook/run.ipynb\" target=\"_parent\"><img src=\"https://colab.research.google.com/assets/colab-badge.svg\" alt=\"Open In Colab\"/></a>"
      ]
    },
    {
      "cell_type": "code",
      "metadata": {
        "id": "I6Gbn5ZpBJUC",
        "colab": {
          "base_uri": "https://localhost:8080/"
        },
        "outputId": "98585575-83fd-407c-9fa4-7574e90cf9b1"
      },
      "source": [
        "!git clone https://github.com/sjkim04/uuig.git\n",
        "%cd /content/uuig/\n",
        "%loadpy main.py"
      ],
      "execution_count": 6,
      "outputs": [
        {
          "output_type": "stream",
          "name": "stdout",
          "text": [
            "fatal: destination path 'uuig' already exists and is not an empty directory.\n",
            "/content/uuig\n"
          ]
        }
      ]
    }
  ]
}